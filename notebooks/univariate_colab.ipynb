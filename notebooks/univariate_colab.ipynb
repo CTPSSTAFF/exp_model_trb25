{
 "cells": [
  {
   "cell_type": "markdown",
   "metadata": {},
   "source": [
    "[![Open In Colab](https://colab.research.google.com/assets/colab-badge.svg)](https://colab.research.google.com/github/CTPSSTAFF/exp_model_trb25/blob/main/notebooks/univariate_colab.ipynb)"
   ]
  },
  {
   "cell_type": "code",
   "execution_count": null,
   "metadata": {},
   "outputs": [],
   "source": [
    "!git clone https://github.com/CTPSSTAFF/exp_model_trb25"
   ]
  },
  {
   "cell_type": "code",
   "execution_count": null,
   "metadata": {},
   "outputs": [],
   "source": [
    "import pandas as pd\n",
    "import pickle\n",
    "tdmvr, installed_packages = (lambda dep: pickle.load(open(f\"{dep}.pkl\", \"rb\")).env(furl=dep)) (\"exp_model_trb25/build/tdm23.vr\")\n",
    "notebook = tdmvr.notebook\n",
    "nb = notebook()"
   ]
  },
  {
   "cell_type": "markdown",
   "metadata": {},
   "source": [
    "# Load metrics from demo CSVs"
   ]
  },
  {
   "cell_type": "code",
   "execution_count": null,
   "metadata": {},
   "outputs": [],
   "source": [
    "df = pd.read_csv(\"exp_model_trb25/inputs/colab/8runs_data.csv\",index_col=0)\n",
    "dff = pd.read_csv(\"exp_model_trb25/inputs/colab/8runs_featurescore.csv\",index_col=0)"
   ]
  },
  {
   "cell_type": "markdown",
   "metadata": {},
   "source": [
    "# Univariate Experiment Analysis"
   ]
  },
  {
   "cell_type": "code",
   "execution_count": null,
   "metadata": {},
   "outputs": [],
   "source": [
    "headers = list(dff.columns) + list(dff.index) + ['DryRun']\n",
    "abbrevs = headers\n",
    "schema = []\n",
    "for i,item in enumerate(headers[:-1]):\n",
    "    col = {}\n",
    "    col[\"index\"] = i+1\n",
    "    col[\"text\"]  = item \n",
    "    col[\"name\"]  = abbrevs[i] \n",
    "    schema.append(col)\n",
    "ddf = df[headers]\n",
    "dict_ixv = ddf.T.to_dict(orient = \"list\" )\n",
    "dtsrc = list(dict_ixv.values())\n",
    "cellheight = 28\n",
    "echeight = len(ddf.T) * 28 + 500\n"
   ]
  },
  {
   "cell_type": "code",
   "execution_count": null,
   "metadata": {},
   "outputs": [],
   "source": [
    "kwargs = {\n",
    "    \"schema\"  : schema,\n",
    "    \"rawData\" : dtsrc,\n",
    "    \"CAT_DIM_COUNT\" :  len(headers) - 2,\n",
    "    \"CAT_BOOL\" :  0,\n",
    "    \"colorhex\" :  ['#ce5c5c','#46075a','#46075a','#306a8e','#3abc12','#eed959' ,\"#EFE5E5\"],\n",
    "    \"tablestr\" : \"\"\n",
    "}\n",
    "css = [f\"width:800px; height:{echeight}px;\",\n",
    "       \"margin-top:323px; margin-right: 100px; width:600px; display:none\"]\n",
    "nb.parallel_bycat(kwargs,css=css)"
   ]
  }
 ],
 "metadata": {
  "kernelspec": {
   "display_name": "simaas",
   "language": "python",
   "name": "python3"
  },
  "language_info": {
   "codemirror_mode": {
    "name": "ipython",
    "version": 3
   },
   "file_extension": ".py",
   "mimetype": "text/x-python",
   "name": "python",
   "nbconvert_exporter": "python",
   "pygments_lexer": "ipython3",
   "version": "3.10.0"
  }
 },
 "nbformat": 4,
 "nbformat_minor": 2
}
