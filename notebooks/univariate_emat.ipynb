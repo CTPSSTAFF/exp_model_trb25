{
 "cells": [
  {
   "cell_type": "code",
   "execution_count": null,
   "metadata": {
    "tags": [
     "uni"
    ]
   },
   "outputs": [],
   "source": [
    "import sys\n",
    "sys.path.insert(0, sys.path[0].split(\"notebooks\")[0])\n",
    "import os\n",
    "import pickle\n",
    "root = sys.path[0]\n",
    "furl = os.path.join(root,\"build\",\"tdm23_env.vr\")\n",
    "version_min = (0, 0, 7)\n",
    "with open(furl, \"rb\") as f:\n",
    "    tdmvr = pickle.load(f)\n",
    "if tdmvr.version_info >= version_min:\n",
    "    print (tdmvr.version_info)\n",
    "else:\n",
    "    raise Exception(\"Please use the right version : tdm23_env.vr-v\" + \".\".join(map(str, version_min)))\n",
    "import pandas as pd\n",
    "from emat.scope.scope import Scope\n",
    "from emat.analysis.feature_scoring import feature_scores\n",
    "import emat\n",
    "notebook = tdmvr.notebook\n",
    "nb = notebook()\n"
   ]
  },
  {
   "cell_type": "markdown",
   "metadata": {},
   "source": [
    "# Load metrics from EMAT database"
   ]
  },
  {
   "cell_type": "markdown",
   "metadata": {},
   "source": [
    "# TODO: \n",
    "\n",
    "## Adding Scenarios: \n",
    "\n",
    "- edit db file and scope file location\n",
    "- edit variable rows\n",
    "- edit extent of variables"
   ]
  },
  {
   "cell_type": "code",
   "execution_count": 2,
   "metadata": {
    "tags": [
     "uni",
     "parameters"
    ]
   },
   "outputs": [],
   "source": [
    "scope_name = 'sens'\n",
    "exp_db_file =  os.path.join(root,\"inputs\",\"tdm23.1.0_sens_20241031.db\") \n",
    "analysis_scope_file = os.path.join(root,\"inputs\",\"tdm23.1.0_sens_20241031.yaml\")  \n",
    "design_name = \"uni\""
   ]
  },
  {
   "cell_type": "code",
   "execution_count": null,
   "metadata": {
    "tags": [
     "uni"
    ]
   },
   "outputs": [],
   "source": [
    "db = emat.SQLiteDB(exp_db_file, initialize=False)\n",
    "design_name = db.read_design_names(scope_name=scope_name)[0]\n",
    "df = db.read_experiment_all(scope_name=scope_name, design_name=design_name, ensure_dtypes=True, source=1)\n",
    "scope = Scope(scope_file=analysis_scope_file)"
   ]
  },
  {
   "cell_type": "code",
   "execution_count": null,
   "metadata": {},
   "outputs": [],
   "source": [
    "df"
   ]
  },
  {
   "cell_type": "code",
   "execution_count": null,
   "metadata": {
    "tags": [
     "uni"
    ]
   },
   "outputs": [],
   "source": [
    "grp_metrics = df.columns[:10].to_list() + scope.get_measure_names()\n",
    "df = df[grp_metrics]\n",
    "dff = feature_scores(scope, df, return_type='styled')"
   ]
  },
  {
   "cell_type": "code",
   "execution_count": null,
   "metadata": {
    "tags": [
     "uni"
    ]
   },
   "outputs": [],
   "source": [
    "df.DryRun.iloc[0] =  \"base\"\n",
    "df.DryRun.iloc[1] = \"EB\"\n",
    "df.DryRun.iloc[2:4] = \"TNC\"\n",
    "df.DryRun.iloc[4] = \"HRT\"\n",
    "df.DryRun.iloc[5] = \"WFH\"\n",
    "df.DryRun.iloc[6:8] = \"AV\"\n",
    "df.DryRun.iloc[8:10] = \"Toll\"\n",
    "df.DryRun.iloc[10:12] = \"Fare\"\n",
    "df.DryRun.iloc[12] = \"BusLane\"\n",
    "df.DryRun.iloc[13] = \"Net\"\n",
    "df.dropna(inplace=True)\n",
    "df"
   ]
  },
  {
   "cell_type": "code",
   "execution_count": 7,
   "metadata": {
    "tags": [
     "uni"
    ]
   },
   "outputs": [],
   "source": [
    "headers = list(dff.columns) + list(dff.index) + ['DryRun']\n",
    "abbrevs = headers\n",
    "schema = []\n",
    "for i,item in enumerate(headers[:-1]):\n",
    "    col = {}\n",
    "    col[\"index\"] = i+1\n",
    "    col[\"text\"]  = item \n",
    "    col[\"name\"]  = abbrevs[i] \n",
    "    schema.append(col)\n",
    "ddf = df[headers]\n",
    "dict_ixv = ddf.T.to_dict(orient = \"list\" )\n",
    "dtsrc = list(dict_ixv.values())\n",
    "cellheight = 28\n",
    "echeight = len(ddf.T) * 28 + 500\n"
   ]
  },
  {
   "cell_type": "markdown",
   "metadata": {},
   "source": [
    "# Univariate Experiment Analysis"
   ]
  },
  {
   "cell_type": "code",
   "execution_count": null,
   "metadata": {
    "tags": [
     "uni"
    ]
   },
   "outputs": [],
   "source": [
    "kwargs = {\n",
    "    \"schema\"  : schema,\n",
    "    \"rawData\" : dtsrc,\n",
    "    \"CAT_DIM_COUNT\" :  len(headers) - 2,\n",
    "    \"CAT_BOOL\" :  0,\n",
    "    \"colorhex\" :  ['#ce5c5c','#46075a','#46075a','#306a8e','#3abc12','#eed959' ,\"#EFE5E5\"],\n",
    "    \"tablestr\" : \"\"\n",
    "}\n",
    "css = [f\"width:800px; height:{echeight}px;\",\n",
    "       \"margin-top:323px; margin-right: 100px; width:600px; display:none\"]\n",
    "nb.parallel_bycat(kwargs,css=css)"
   ]
  },
  {
   "cell_type": "markdown",
   "metadata": {},
   "source": [
    "#"
   ]
  },
  {
   "cell_type": "markdown",
   "metadata": {},
   "source": []
  }
 ],
 "metadata": {
  "kernelspec": {
   "display_name": "tdm23_env_1",
   "language": "python",
   "name": "python3"
  },
  "language_info": {
   "codemirror_mode": {
    "name": "ipython",
    "version": 3
   },
   "file_extension": ".py",
   "mimetype": "text/x-python",
   "name": "python",
   "nbconvert_exporter": "python",
   "pygments_lexer": "ipython3",
   "version": "3.8.12"
  }
 },
 "nbformat": 4,
 "nbformat_minor": 2
}
